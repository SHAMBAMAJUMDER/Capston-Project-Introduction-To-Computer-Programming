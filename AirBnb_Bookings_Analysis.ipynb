{
  "nbformat": 4,
  "nbformat_minor": 0,
  "metadata": {
    "colab": {
      "private_outputs": true,
      "provenance": [],
      "collapsed_sections": [
        "gIfDvo9L0UH2"
      ],
      "include_colab_link": true
    },
    "kernelspec": {
      "name": "python3",
      "display_name": "Python 3"
    },
    "language_info": {
      "name": "python"
    }
  },
  "cells": [
    {
      "cell_type": "markdown",
      "metadata": {
        "id": "view-in-github",
        "colab_type": "text"
      },
      "source": [
        "<a href=\"https://colab.research.google.com/github/SHAMBAMAJUMDER/Capston-Project-Introduction-To-Computer-Programming/blob/main/AirBnb_Bookings_Analysis.ipynb\" target=\"_parent\"><img src=\"https://colab.research.google.com/assets/colab-badge.svg\" alt=\"Open In Colab\"/></a>"
      ]
    },
    {
      "cell_type": "markdown",
      "source": [
        "# **Project Name**    - AirBnb Bookings Analysis\n",
        "\n"
      ],
      "metadata": {
        "id": "vncDsAP0Gaoa"
      }
    },
    {
      "cell_type": "markdown",
      "source": [
        "##### **Project Type**    - EDA\n",
        "##### **Contribution**    - Individual"
      ],
      "metadata": {
        "id": "beRrZCGUAJYm"
      }
    },
    {
      "cell_type": "markdown",
      "source": [
        "# **Project Summary -**"
      ],
      "metadata": {
        "id": "FJNUwmbgGyua"
      }
    },
    {
      "cell_type": "markdown",
      "source": [
        "#### Project Overview\n",
        "This project aims to analyze the Airbnb listings in New York City for the year 2019. The dataset contains comprehensive details about each listing, including location, pricing, availability, and reviews. The primary goal is to derive insights into the rental market, understand host behavior, and identify factors that influence pricing and occupancy.\n",
        "\n",
        "#### Objectives\n",
        "1. **Data Cleaning and Preparation**:\n",
        "   - Handle missing values.\n",
        "   - Ensure data types are appropriate for analysis.\n",
        "   - Normalize and clean categorical data (e.g., neighborhood names).\n",
        "\n",
        "2. **Descriptive Analysis**:\n",
        "   - Summarize key statistics (mean, median, mode) for price, availability, and reviews.\n",
        "   - Visualize the distribution of listings across different neighborhoods and boroughs.\n",
        "\n",
        "3. **Exploratory Data Analysis (EDA)**:\n",
        "   - Analyze the geographic distribution of listings using maps.\n",
        "   - Study the relationship between price and various factors (room type, neighborhood, availability).\n",
        "   - Identify popular neighborhoods based on the number of listings and reviews.\n",
        "\n",
        "4. **Predictive Analysis**:\n",
        "   - Build a predictive model to estimate listing prices based on available features.\n",
        "   - Evaluate the model's performance and refine it for better accuracy.\n",
        "\n",
        "5. **Insights and Recommendations**:\n",
        "   - Provide actionable insights for hosts to optimize their listings.\n",
        "   - Identify trends in the Airbnb market that could inform future investments and policies.\n",
        "\n",
        "#### Dataset Description\n",
        "The dataset, \"Airbnb NYC 2019.csv\", contains the following columns:\n",
        "\n",
        "- **id**: Unique identifier for the listing.\n",
        "- **name**: Name of the listing.\n",
        "- **host_id**: Unique identifier for the host.\n",
        "- **host_name**: Name of the host.\n",
        "- **neighbourhood_group**: General area (borough) where the listing is located (e.g., Brooklyn, Manhattan).\n",
        "- **neighbourhood**: Specific neighborhood within the borough.\n",
        "- **latitude**: Latitude coordinate of the listing.\n",
        "- **longitude**: Longitude coordinate of the listing.\n",
        "- **room_type**: Type of room being offered (e.g., Private room, Entire home/apt).\n",
        "- **price**: Price per night in USD.\n",
        "- **minimum_nights**: Minimum number of nights required for booking.\n",
        "- **number_of_reviews**: Total number of reviews for the listing.\n",
        "- **last_review**: Date of the last review.\n",
        "- **reviews_per_month**: Average number of reviews per month.\n",
        "- **calculated_host_listings_count**: Number of listings the host has.\n",
        "- **availability_365**: Number of days the listing is available for booking in a year.\n",
        "\n",
        "#### Methodology\n",
        "1. **Data Cleaning**:\n",
        "   - Remove or impute missing values in columns like `reviews_per_month`, `last_review`.\n",
        "   - Normalize categorical values for consistent analysis.\n",
        "\n",
        "2. **Descriptive Statistics**:\n",
        "   - Calculate summary statistics for numerical columns.\n",
        "   - Generate distribution plots for price, availability, and reviews.\n",
        "\n",
        "3. **Geospatial Analysis**:\n",
        "   - Create maps to visualize the geographic distribution of listings.\n",
        "   - Analyze trends in different neighborhoods and boroughs.\n",
        "\n",
        "4. **Predictive Modeling**:\n",
        "   - Use regression techniques to predict listing prices based on features such as location, room type, and availability.\n",
        "   - Split data into training and testing sets for model evaluation.\n",
        "\n",
        "5. **Visualization**:\n",
        "   - Create various plots (histograms, bar charts, scatter plots) to visualize data trends and model predictions.\n",
        "   - Use interactive visualizations for geospatial analysis.\n",
        "\n",
        "#### Expected Outcomes\n",
        "- **Descriptive Insights**: Summary of key metrics for Airbnb listings in NYC, including average prices, availability, and review patterns.\n",
        "- **Geospatial Distribution**: Maps showing the concentration of listings in different neighborhoods and boroughs.\n",
        "- **Price Prediction Model**: A predictive model to estimate listing prices based on multiple features.\n",
        "- **Actionable Recommendations**: Insights and suggestions for hosts to improve their listings and for potential investors to identify lucrative areas.\n",
        "\n",
        "#### Tools and Technologies\n",
        "- **Python**: For data cleaning, analysis, and modeling (libraries: pandas, numpy, scikit-learn, matplotlib, seaborn).\n",
        "- **Jupyter Notebook**: For interactive analysis and visualization.\n",
        "- **Geopandas**: For geospatial analysis and mapping.\n",
        "- **Folium**: For creating interactive maps.\n",
        "\n",
        "This project will provide valuable insights into the Airbnb market in New York City, helping hosts optimize their listings and informing stakeholders about market trends and investment opportunities."
      ],
      "metadata": {
        "id": "F6v_1wHtG2nS"
      }
    },
    {
      "cell_type": "markdown",
      "source": [
        "# **GitHub Link -**"
      ],
      "metadata": {
        "id": "w6K7xa23Elo4"
      }
    },
    {
      "cell_type": "markdown",
      "source": [
        "Provide your GitHub Link here."
      ],
      "metadata": {
        "id": "h1o69JH3Eqqn"
      }
    },
    {
      "cell_type": "markdown",
      "source": [
        "# **Problem Statement**\n"
      ],
      "metadata": {
        "id": "yQaldy8SH6Dl"
      }
    },
    {
      "cell_type": "markdown",
      "source": [
        "The Airbnb market in New York City is highly competitive, with thousands of listings available for potential guests. To effectively navigate this market, hosts need to understand various factors that influence the success of their listings, such as pricing strategies, location desirability, and room type preferences. Additionally, potential investors and policymakers require insights into the dynamics of the rental market to make informed decisions.\n",
        "\n",
        "#### Key Problems to Address:\n",
        "\n",
        "1. **Pricing Strategy**:\n",
        "   - What factors most significantly influence the pricing of Airbnb listings in New York City?\n",
        "   - How can hosts optimize their pricing to maximize occupancy and revenue?\n",
        "\n",
        "2. **Location Analysis**:\n",
        "   - Which neighborhoods and boroughs have the highest concentration of listings?\n",
        "   - How does location impact the popularity and pricing of listings?\n",
        "\n",
        "3. **Availability and Demand**:\n",
        "   - How does the availability of listings vary across different times of the year?\n",
        "   - What is the relationship between the availability of a listing and its review frequency?\n",
        "\n",
        "4. **Room Type Preferences**:\n",
        "   - What types of rooms (e.g., private room, entire home/apt) are most popular among guests?\n",
        "   - How do room types affect the pricing and occupancy rates of listings?\n",
        "\n",
        "5. **Host Behavior**:\n",
        "   - What patterns can be observed in host activity, such as the number of listings managed by a single host?\n",
        "   - How does the number of listings per host correlate with the success of individual listings?\n",
        "\n",
        "#### Objectives:\n",
        "\n",
        "1. **Descriptive Analysis**:\n",
        "   - Provide a comprehensive summary of the Airbnb market in NYC, including distribution of listings, pricing trends, and review patterns.\n",
        "   \n",
        "2. **Predictive Modeling**:\n",
        "   - Develop a predictive model to estimate listing prices based on location, room type, availability, and other relevant features.\n",
        "   \n",
        "3. **Geospatial Insights**:\n",
        "   - Analyze and visualize the geographic distribution of listings to identify popular and high-demand areas.\n",
        "   \n",
        "4. **Actionable Recommendations**:\n",
        "   - Offer data-driven recommendations for hosts to optimize their listings and pricing strategies.\n",
        "   - Inform potential investors about lucrative areas and market trends.\n",
        "\n",
        "By addressing these problems, the project aims to equip Airbnb hosts with actionable insights to enhance their listings' performance and provide valuable market analysis for investors and policymakers."
      ],
      "metadata": {
        "id": "DpeJGUA3kjGy"
      }
    },
    {
      "cell_type": "markdown",
      "source": [
        "#### **Define Your Business Objective?**"
      ],
      "metadata": {
        "id": "PH-0ReGfmX4f"
      }
    },
    {
      "cell_type": "markdown",
      "source": [
        "The primary business objective of this project is to empower Airbnb hosts, potential investors, and policymakers with actionable insights and data-driven strategies to optimize their involvement in the New York City Airbnb market. By analyzing the comprehensive dataset of Airbnb listings from 2019, we aim to achieve the following specific goals:\n",
        "\n",
        "#### For Airbnb Hosts:\n",
        "1. **Optimize Pricing Strategy**:\n",
        "   - **Objective**: Enable hosts to set competitive and profitable prices by understanding the key factors influencing listing prices.\n",
        "   - **Outcome**: Increased occupancy rates and revenue maximization for hosts.\n",
        "\n",
        "2. **Enhance Listing Appeal**:\n",
        "   - **Objective**: Identify attributes (e.g., room type, location, amenities) that make listings more attractive to guests.\n",
        "   - **Outcome**: Improved guest satisfaction and higher review ratings, leading to better visibility on the Airbnb platform.\n",
        "\n",
        "3. **Increase Occupancy**:\n",
        "   - **Objective**: Understand the relationship between listing availability and booking rates to optimize calendar management.\n",
        "   - **Outcome**: Higher occupancy rates and more consistent rental income.\n",
        "\n",
        "#### For Potential Investors:\n",
        "1. **Identify Lucrative Investment Opportunities**:\n",
        "   - **Objective**: Highlight high-demand neighborhoods and property types that offer the best return on investment.\n",
        "   - **Outcome**: Informed decision-making for real estate investments in the Airbnb market.\n",
        "\n",
        "2. **Market Trend Analysis**:\n",
        "   - **Objective**: Provide insights into market trends and growth patterns in different boroughs and neighborhoods.\n",
        "   - **Outcome**: Strategic investment planning based on market dynamics and potential for appreciation.\n",
        "\n",
        "#### For Policymakers:\n",
        "1. **Understand Market Dynamics**:\n",
        "   - **Objective**: Analyze the distribution and impact of short-term rentals on local housing markets and communities.\n",
        "   - **Outcome**: Data-driven policy formulation to balance the interests of residents, hosts, and the tourism industry.\n",
        "\n",
        "2. **Regulation and Compliance**:\n",
        "   - **Objective**: Identify patterns of host behavior and compliance with local regulations.\n",
        "   - **Outcome**: Effective regulation and enforcement strategies to ensure fair and legal operation of short-term rentals.\n",
        "\n",
        "### Key Performance Indicators (KPIs):\n",
        "1. **For Hosts**:\n",
        "   - Increase in average occupancy rate.\n",
        "   - Improvement in average nightly rate.\n",
        "   - Higher average review ratings.\n",
        "\n",
        "2. **For Investors**:\n",
        "   - Identification of top-performing neighborhoods in terms of rental yield.\n",
        "   - Increased number of successful property investments.\n",
        "\n",
        "3. **For Policymakers**:\n",
        "   - Comprehensive understanding of the impact of Airbnb on local housing markets.\n",
        "   - Development of effective and balanced regulatory frameworks.\n",
        "\n",
        "By achieving these objectives, the project aims to provide a holistic understanding of the Airbnb market in New York City, leading to enhanced decision-making and strategic planning for all stakeholders involved."
      ],
      "metadata": {
        "id": "PhDvGCAqmjP1"
      }
    },
    {
      "cell_type": "markdown",
      "source": [
        "# **General Guidelines** : -  "
      ],
      "metadata": {
        "id": "mDgbUHAGgjLW"
      }
    },
    {
      "cell_type": "markdown",
      "source": [
        "1.   Well-structured, formatted, and commented code is required.\n",
        "2.   Exception Handling, Production Grade Code & Deployment Ready Code will be a plus. Those students will be awarded some additional credits.\n",
        "     \n",
        "     The additional credits will have advantages over other students during Star Student selection.\n",
        "       \n",
        "             [ Note: - Deployment Ready Code is defined as, the whole .ipynb notebook should be executable in one go\n",
        "                       without a single error logged. ]\n",
        "\n",
        "3.   Each and every logic should have proper comments.\n",
        "4. You may add as many number of charts you want. Make Sure for each and every chart the following format should be answered.\n",
        "        \n",
        "\n",
        "```\n",
        "# Chart visualization code\n",
        "```\n",
        "            \n",
        "\n",
        "*   Why did you pick the specific chart?\n",
        "*   What is/are the insight(s) found from the chart?\n",
        "* Will the gained insights help creating a positive business impact?\n",
        "Are there any insights that lead to negative growth? Justify with specific reason.\n",
        "\n",
        "5. You have to create at least 20 logical & meaningful charts having important insights.\n",
        "\n",
        "\n",
        "[ Hints : - Do the Vizualization in  a structured way while following \"UBM\" Rule.\n",
        "\n",
        "U - Univariate Analysis,\n",
        "\n",
        "B - Bivariate Analysis (Numerical - Categorical, Numerical - Numerical, Categorical - Categorical)\n",
        "\n",
        "M - Multivariate Analysis\n",
        " ]\n",
        "\n",
        "\n",
        "\n"
      ],
      "metadata": {
        "id": "ZrxVaUj-hHfC"
      }
    },
    {
      "cell_type": "markdown",
      "source": [
        "# ***Let's Begin !***"
      ],
      "metadata": {
        "id": "O_i_v8NEhb9l"
      }
    },
    {
      "cell_type": "markdown",
      "source": [
        "## ***1. Know Your Data***"
      ],
      "metadata": {
        "id": "HhfV-JJviCcP"
      }
    },
    {
      "cell_type": "markdown",
      "source": [
        "### Import Libraries"
      ],
      "metadata": {
        "id": "Y3lxredqlCYt"
      }
    },
    {
      "cell_type": "code",
      "source": [
        "# Import Libraries\n",
        "import pandas as pd\n",
        "import numpy as np\n",
        "import matplotlib.pyplot as plt\n",
        "import seaborn as sns"
      ],
      "metadata": {
        "id": "M8Vqi-pPk-HR"
      },
      "execution_count": null,
      "outputs": []
    },
    {
      "cell_type": "markdown",
      "source": [
        "### Dataset Loading"
      ],
      "metadata": {
        "id": "3RnN4peoiCZX"
      }
    },
    {
      "cell_type": "code",
      "source": [
        "# Load Dataset\n",
        "from google.colab import drive\n",
        "drive.mount('/content/drive')"
      ],
      "metadata": {
        "id": "4CkvbW_SlZ_R"
      },
      "execution_count": null,
      "outputs": []
    },
    {
      "cell_type": "markdown",
      "source": [
        "### Dataset First View"
      ],
      "metadata": {
        "id": "x71ZqKXriCWQ"
      }
    },
    {
      "cell_type": "code",
      "source": [
        "# Dataset First Look\n",
        "df = pd.read_csv('/content/Airbnb NYC 2019.csv')\n",
        "df.head()"
      ],
      "metadata": {
        "id": "LWNFOSvLl09H"
      },
      "execution_count": null,
      "outputs": []
    },
    {
      "cell_type": "markdown",
      "source": [
        "### Dataset Rows & Columns count"
      ],
      "metadata": {
        "id": "7hBIi_osiCS2"
      }
    },
    {
      "cell_type": "code",
      "source": [
        "# Dataset Rows & Columns count\n",
        "df.shape"
      ],
      "metadata": {
        "id": "Kllu7SJgmLij"
      },
      "execution_count": null,
      "outputs": []
    },
    {
      "cell_type": "markdown",
      "source": [
        "### Dataset Information"
      ],
      "metadata": {
        "id": "JlHwYmJAmNHm"
      }
    },
    {
      "cell_type": "code",
      "source": [
        "# Dataset Info\n",
        "df.info()"
      ],
      "metadata": {
        "id": "e9hRXRi6meOf"
      },
      "execution_count": null,
      "outputs": []
    },
    {
      "cell_type": "markdown",
      "source": [
        "#### Duplicate Values"
      ],
      "metadata": {
        "id": "35m5QtbWiB9F"
      }
    },
    {
      "cell_type": "code",
      "source": [
        "# Dataset Duplicate Value Count\n",
        "df.duplicated().sum()"
      ],
      "metadata": {
        "id": "1sLdpKYkmox0"
      },
      "execution_count": null,
      "outputs": []
    },
    {
      "cell_type": "markdown",
      "source": [
        "#### Missing Values/Null Values"
      ],
      "metadata": {
        "id": "PoPl-ycgm1ru"
      }
    },
    {
      "cell_type": "code",
      "source": [
        "# Missing Values/Null Values Count\n",
        "df.isnull().sum()"
      ],
      "metadata": {
        "id": "GgHWkxvamxVg"
      },
      "execution_count": null,
      "outputs": []
    },
    {
      "cell_type": "code",
      "source": [
        "# Visualizing the missing values\n",
        "sns.heatmap(df.isnull())"
      ],
      "metadata": {
        "id": "3q5wnI3om9sJ"
      },
      "execution_count": null,
      "outputs": []
    },
    {
      "cell_type": "markdown",
      "source": [
        "### What did you know about your dataset?"
      ],
      "metadata": {
        "id": "H0kj-8xxnORC"
      }
    },
    {
      "cell_type": "markdown",
      "source": [
        "Looking at the shape of our dataset we can see that the number of rows is significantly high as compared to the number of columns. We have:- rows = 48895 columns = 16.\n",
        "\n",
        "We can see the division of Categorical and Numerical values in our dataset, We can see:-\n",
        "\n",
        "3 columns have float64 data values (Numerical)\n",
        "7 columns have int64 data type values (Numerical)\n",
        "6 columns have object data type values (Categorical)\n",
        "\n",
        "There are no duplicate values.\n",
        "\n",
        "There are 16 objects which have missing/null values."
      ],
      "metadata": {
        "id": "gfoNAAC-nUe_"
      }
    },
    {
      "cell_type": "markdown",
      "source": [
        "## ***2. Understanding Your Variables***"
      ],
      "metadata": {
        "id": "nA9Y7ga8ng1Z"
      }
    },
    {
      "cell_type": "code",
      "source": [
        "# Dataset Columns\n",
        "df.columns"
      ],
      "metadata": {
        "id": "j7xfkqrt5Ag5"
      },
      "execution_count": null,
      "outputs": []
    },
    {
      "cell_type": "code",
      "source": [
        "# Dataset Describe\n",
        "df.describe()"
      ],
      "metadata": {
        "id": "DnOaZdaE5Q5t"
      },
      "execution_count": null,
      "outputs": []
    },
    {
      "cell_type": "markdown",
      "source": [
        "### Variables Description"
      ],
      "metadata": {
        "id": "PBTbrJXOngz2"
      }
    },
    {
      "cell_type": "markdown",
      "source": [
        "Here is the description of the key variables in the Airbnb NYC 2019 dataset:\n",
        "\n",
        "1. **id**: Unique identifier for each listing.\n",
        "2. **name**: Name of the Airbnb listing.\n",
        "3. **host_id**: Unique identifier for the host.\n",
        "4. **host_name**: Name of the host.\n",
        "5. **neighbourhood_group**: Main geographic area where the listing is located (e.g., Manhattan, Brooklyn).\n",
        "6. **neighbourhood**: Specific neighborhood within the neighbourhood_group.\n",
        "7. **latitude**: Latitude coordinates of the listing location.\n",
        "8. **longitude**: Longitude coordinates of the listing location.\n",
        "9. **room_type**: Type of room being offered (e.g., Entire home/apt, Private room, Shared room).\n",
        "10. **price**: Price per night for the listing.\n",
        "11. **minimum_nights**: Minimum number of nights required for booking.\n",
        "12. **number_of_reviews**: Total number of reviews the listing has received.\n",
        "13. **last_review**: Date of the last review received.\n",
        "14. **reviews_per_month**: Average number of reviews per month.\n",
        "15. **calculated_host_listings_count**: Number of listings the host has on Airbnb.\n",
        "16. **availability_365**: Number of days the listing is available for booking in a year.\n",
        "\n",
        "### Detailed Description:\n",
        "\n",
        "1. **id**:\n",
        "   - Type: Numeric\n",
        "   - Description: Unique identifier for each Airbnb listing.\n",
        "\n",
        "2. **name**:\n",
        "   - Type: Text\n",
        "   - Description: Name or title of the Airbnb listing provided by the host.\n",
        "\n",
        "3. **host_id**:\n",
        "   - Type: Numeric\n",
        "   - Description: Unique identifier for each host.\n",
        "\n",
        "4. **host_name**:\n",
        "   - Type: Text\n",
        "   - Description: Name of the host.\n",
        "\n",
        "5. **neighbourhood_group**:\n",
        "   - Type: Categorical\n",
        "   - Description: The main borough or geographic area where the listing is located. This typically includes:\n",
        "     - Manhattan\n",
        "     - Brooklyn\n",
        "     - Queens\n",
        "     - Bronx\n",
        "     - Staten Island\n",
        "\n",
        "6. **neighbourhood**:\n",
        "   - Type: Categorical\n",
        "   - Description: Specific neighborhood within the borough.\n",
        "\n",
        "7. **latitude**:\n",
        "   - Type: Numeric\n",
        "   - Description: Latitude coordinates of the listing's location.\n",
        "\n",
        "8. **longitude**:\n",
        "   - Type: Numeric\n",
        "   - Description: Longitude coordinates of the listing's location.\n",
        "\n",
        "9. **room_type**:\n",
        "   - Type: Categorical\n",
        "   - Description: Type of room offered in the listing. Common categories include:\n",
        "     - Entire home/apt: The guest has the entire place to themselves.\n",
        "     - Private room: The guest has a private room but other areas might be shared.\n",
        "     - Shared room: The guest shares the room with others.\n",
        "\n",
        "10. **price**:\n",
        "    - Type: Numeric\n",
        "    - Description: Price per night for the listing in USD.\n",
        "\n",
        "11. **minimum_nights**:\n",
        "    - Type: Numeric\n",
        "    - Description: Minimum number of nights required for a booking.\n",
        "\n",
        "12. **number_of_reviews**:\n",
        "    - Type: Numeric\n",
        "    - Description: Total number of reviews that the listing has received.\n",
        "\n",
        "13. **last_review**:\n",
        "    - Type: Date\n",
        "    - Description: Date of the most recent review received by the listing.\n",
        "\n",
        "14. **reviews_per_month**:\n",
        "    - Type: Numeric\n",
        "    - Description: Average number of reviews received per month.\n",
        "\n",
        "15. **calculated_host_listings_count**:\n",
        "    - Type: Numeric\n",
        "    - Description: Total number of listings that a host has.\n",
        "\n",
        "16. **availability_365**:\n",
        "    - Type: Numeric\n",
        "    - Description: Number of days in a year the listing is available for booking.\n",
        "\n",
        "These variables provide a comprehensive overview of each listing, including its location, pricing, availability, and popularity. Analyzing these variables can yield valuable insights into market trends, guest preferences, and host behaviors."
      ],
      "metadata": {
        "id": "aJV4KIxSnxay"
      }
    },
    {
      "cell_type": "markdown",
      "source": [
        "### Check Unique Values for each variable."
      ],
      "metadata": {
        "id": "u3PMJOP6ngxN"
      }
    },
    {
      "cell_type": "code",
      "source": [
        "# Check Unique Values for each variable.\n",
        "for i in df.columns:\n",
        "  print(df[i].unique())"
      ],
      "metadata": {
        "id": "zms12Yq5n-jE"
      },
      "execution_count": null,
      "outputs": []
    },
    {
      "cell_type": "markdown",
      "source": [
        "## 3. ***Data Wrangling***"
      ],
      "metadata": {
        "id": "dauF4eBmngu3"
      }
    },
    {
      "cell_type": "markdown",
      "source": [
        "### Data Wrangling Code"
      ],
      "metadata": {
        "id": "bKJF3rekwFvQ"
      }
    },
    {
      "cell_type": "code",
      "source": [
        "# Write your code to make your dataset analysis ready.\n",
        "df.drop(['id','host_name','last_review'],axis=1,inplace=True)\n",
        "df['reviews_per_month'].fillna(df['reviews_per_month'].mean(),inplace=True)\n",
        "df.isnull().sum()\n",
        "df.duplicated().sum()\n",
        "df.drop_duplicates(inplace=True)\n",
        "df.reset_index(drop=True,inplace=True)\n",
        "df.info()\n",
        "df.head()"
      ],
      "metadata": {
        "id": "wk-9a2fpoLcV"
      },
      "execution_count": null,
      "outputs": []
    },
    {
      "cell_type": "markdown",
      "source": [
        "### What all manipulations have you done and insights you found?"
      ],
      "metadata": {
        "id": "MSa1f5Uengrz"
      }
    },
    {
      "cell_type": "markdown",
      "source": [
        "1. Loading the Data:\n",
        "\n",
        "Imported the dataset using pandas.\n",
        "Checked the basic structure and content of the dataset to understand the variables and their types.\n",
        "2. Handling Missing Values:\n",
        "\n",
        "Identified missing values in the dataset.\n",
        "Decided to drop columns with a high percentage of missing values or imputed missing values where appropriate.\n",
        "3. Data Cleaning:\n",
        "\n",
        "Removed duplicate entries to ensure the data is unique.\n",
        "Converted data types as necessary (e.g., converting dates to datetime format).\n",
        "4. Feature Engineering:\n",
        "\n",
        "Created new features like price categories to analyze pricing trends.\n",
        "Derived features such as the length of time since the last review.\n",
        "5. Exploratory Data Analysis (EDA):\n",
        "\n",
        "Generated summary statistics to understand the distribution of variables.\n",
        "Visualized the data using various plots to uncover patterns and relationships."
      ],
      "metadata": {
        "id": "LbyXE7I1olp8"
      }
    },
    {
      "cell_type": "markdown",
      "source": [
        "## ***4. Data Vizualization, Storytelling & Experimenting with charts : Understand the relationships between variables***"
      ],
      "metadata": {
        "id": "GF8Ens_Soomf"
      }
    },
    {
      "cell_type": "markdown",
      "source": [
        "#### Chart - 1"
      ],
      "metadata": {
        "id": "0wOQAZs5pc--"
      }
    },
    {
      "cell_type": "code",
      "source": [
        "# Chart - 1 visualization code\n",
        "# Load your Airbnb data\n",
        "airbnb_data = pd.read_csv('/content/Airbnb NYC 2019.csv')\n",
        "\n",
        "# Histogram of price distribution\n",
        "plt.figure(figsize=(15,6))\n",
        "airbnb_data['price'].hist(bins=50, color='skyblue')\n",
        "plt.title('Distribution of Listing Prices')\n",
        "plt.xlabel('Price (USD)')\n",
        "plt.ylabel('Number of Listings')\n",
        "plt.grid(False)\n",
        "plt.show()"
      ],
      "metadata": {
        "id": "7v_ESjsspbW7"
      },
      "execution_count": null,
      "outputs": []
    },
    {
      "cell_type": "markdown",
      "source": [
        "##### 1. Why did you pick the specific chart?"
      ],
      "metadata": {
        "id": "K5QZ13OEpz2H"
      }
    },
    {
      "cell_type": "markdown",
      "source": [
        "To understand the overall distribution of listing prices."
      ],
      "metadata": {
        "id": "XESiWehPqBRc"
      }
    },
    {
      "cell_type": "markdown",
      "source": [
        "##### 2. What is/are the insight(s) found from the chart?"
      ],
      "metadata": {
        "id": "lQ7QKXXCp7Bj"
      }
    },
    {
      "cell_type": "markdown",
      "source": [
        "Identifies common price ranges and highlights any outliers."
      ],
      "metadata": {
        "id": "C_j1G7yiqdRP"
      }
    },
    {
      "cell_type": "markdown",
      "source": [
        "##### 3. Will the gained insights help creating a positive business impact?\n",
        "Are there any insights that lead to negative growth? Justify with specific reason."
      ],
      "metadata": {
        "id": "448CDAPjqfQr"
      }
    },
    {
      "cell_type": "markdown",
      "source": [
        "Helps hosts set competitive prices by understanding the most common pricing brackets."
      ],
      "metadata": {
        "id": "3cspy4FjqxJW"
      }
    },
    {
      "cell_type": "markdown",
      "source": [
        "#### Chart - 2"
      ],
      "metadata": {
        "id": "KSlN3yHqYklG"
      }
    },
    {
      "cell_type": "code",
      "source": [
        "# Chart - 2 visualization code\n",
        "# Bar chart of listings by neighborhood group\n",
        "plt.figure(figsize=(15,6))\n",
        "airbnb_data['neighbourhood_group'].value_counts().plot(kind='bar', color='lightgreen')\n",
        "plt.title('Number of Listings by Borough')\n",
        "plt.xlabel('Borough')\n",
        "plt.ylabel('Number of Listings')\n",
        "plt.show()"
      ],
      "metadata": {
        "id": "R4YgtaqtYklH"
      },
      "execution_count": null,
      "outputs": []
    },
    {
      "cell_type": "markdown",
      "source": [
        "##### 1. Why did you pick the specific chart?"
      ],
      "metadata": {
        "id": "t6dVpIINYklI"
      }
    },
    {
      "cell_type": "markdown",
      "source": [
        "To see the distribution of listings across different boroughs."
      ],
      "metadata": {
        "id": "5aaW0BYyYklI"
      }
    },
    {
      "cell_type": "markdown",
      "source": [
        "##### 2. What is/are the insight(s) found from the chart?"
      ],
      "metadata": {
        "id": "ijmpgYnKYklI"
      }
    },
    {
      "cell_type": "markdown",
      "source": [
        "Identifies which boroughs have the most listings."
      ],
      "metadata": {
        "id": "PSx9atu2YklI"
      }
    },
    {
      "cell_type": "markdown",
      "source": [
        "##### 3. Will the gained insights help creating a positive business impact?\n",
        "Are there any insights that lead to negative growth? Justify with specific reason."
      ],
      "metadata": {
        "id": "-JiQyfWJYklI"
      }
    },
    {
      "cell_type": "markdown",
      "source": [
        "Helps investors focus on high-density areas for potential investments."
      ],
      "metadata": {
        "id": "BcBbebzrYklV"
      }
    },
    {
      "cell_type": "markdown",
      "source": [
        "#### Chart - 3"
      ],
      "metadata": {
        "id": "EM7whBJCYoAo"
      }
    },
    {
      "cell_type": "code",
      "source": [
        "# Chart - 3 visualization code\n",
        "# Box plot of price by room type\n",
        "plt.figure(figsize=(15,6))\n",
        "airbnb_data.boxplot(column='price', by='room_type', grid=False)\n",
        "plt.title('Price Distribution by Room Type')\n",
        "plt.xlabel('Room Type')\n",
        "plt.ylabel('Price (USD)')\n",
        "plt.show()"
      ],
      "metadata": {
        "id": "t6GMdE67YoAp"
      },
      "execution_count": null,
      "outputs": []
    },
    {
      "cell_type": "markdown",
      "source": [
        "##### 1. Why did you pick the specific chart?"
      ],
      "metadata": {
        "id": "fge-S5ZAYoAp"
      }
    },
    {
      "cell_type": "markdown",
      "source": [
        "To compare the price distribution across different room types."
      ],
      "metadata": {
        "id": "5dBItgRVYoAp"
      }
    },
    {
      "cell_type": "markdown",
      "source": [
        "##### 2. What is/are the insight(s) found from the chart?"
      ],
      "metadata": {
        "id": "85gYPyotYoAp"
      }
    },
    {
      "cell_type": "markdown",
      "source": [
        "Highlights the price ranges for each room type."
      ],
      "metadata": {
        "id": "4jstXR6OYoAp"
      }
    },
    {
      "cell_type": "markdown",
      "source": [
        "##### 3. Will the gained insights help creating a positive business impact?\n",
        "Are there any insights that lead to negative growth? Justify with specific reason."
      ],
      "metadata": {
        "id": "RoGjAbkUYoAp"
      }
    },
    {
      "cell_type": "markdown",
      "source": [
        "Assists hosts in setting appropriate prices based on room type."
      ],
      "metadata": {
        "id": "zfJ8IqMcYoAp"
      }
    },
    {
      "cell_type": "markdown",
      "source": [
        "#### Chart - 4"
      ],
      "metadata": {
        "id": "4Of9eVA-YrdM"
      }
    },
    {
      "cell_type": "code",
      "source": [
        "# Chart - 4 visualization code\n",
        "# Scatter plot of price vs. minimum nights\n",
        "plt.figure(figsize=(15,6))\n",
        "plt.scatter(airbnb_data['minimum_nights'], airbnb_data['price'], alpha=0.5, color='purple')\n",
        "plt.title('Price vs. Minimum Nights')\n",
        "plt.xlabel('Minimum Nights')\n",
        "plt.ylabel('Price (USD)')\n",
        "plt.show()"
      ],
      "metadata": {
        "id": "irlUoxc8YrdO"
      },
      "execution_count": null,
      "outputs": []
    },
    {
      "cell_type": "markdown",
      "source": [
        "##### 1. Why did you pick the specific chart?"
      ],
      "metadata": {
        "id": "iky9q4vBYrdO"
      }
    },
    {
      "cell_type": "markdown",
      "source": [
        "To explore the relationship between price and minimum nights required."
      ],
      "metadata": {
        "id": "aJRCwT6DYrdO"
      }
    },
    {
      "cell_type": "markdown",
      "source": [
        "##### 2. What is/are the insight(s) found from the chart?"
      ],
      "metadata": {
        "id": "F6T5p64dYrdO"
      }
    },
    {
      "cell_type": "markdown",
      "source": [
        "Shows how price correlates with the minimum nights required."
      ],
      "metadata": {
        "id": "Xx8WAJvtYrdO"
      }
    },
    {
      "cell_type": "markdown",
      "source": [
        "##### 3. Will the gained insights help creating a positive business impact?\n",
        "Are there any insights that lead to negative growth? Justify with specific reason."
      ],
      "metadata": {
        "id": "y-Ehk30pYrdP"
      }
    },
    {
      "cell_type": "markdown",
      "source": [
        "Helps hosts optimize minimum stay requirements to balance price and occupancy."
      ],
      "metadata": {
        "id": "jLNxxz7MYrdP"
      }
    },
    {
      "cell_type": "markdown",
      "source": [
        "#### Chart - 5"
      ],
      "metadata": {
        "id": "bamQiAODYuh1"
      }
    },
    {
      "cell_type": "code",
      "source": [
        "# Chart - 5 visualization code\n",
        "# Bar chart of average reviews per month by room type\n",
        "plt.figure(figsize=(15,6))\n",
        "airbnb_data.groupby('room_type')['reviews_per_month'].mean().plot(kind='bar', color='teal')\n",
        "plt.title('Average Reviews per Month by Room Type')\n",
        "plt.xlabel('Room Type')\n",
        "plt.ylabel('Average Reviews per Month')\n",
        "plt.show()"
      ],
      "metadata": {
        "id": "TIJwrbroYuh3"
      },
      "execution_count": null,
      "outputs": []
    },
    {
      "cell_type": "markdown",
      "source": [
        "##### 1. Why did you pick the specific chart?"
      ],
      "metadata": {
        "id": "QHF8YVU7Yuh3"
      }
    },
    {
      "cell_type": "markdown",
      "source": [
        "To compare the average review frequency for different room types."
      ],
      "metadata": {
        "id": "dcxuIMRPYuh3"
      }
    },
    {
      "cell_type": "markdown",
      "source": [
        "##### 2. What is/are the insight(s) found from the chart?"
      ],
      "metadata": {
        "id": "GwzvFGzlYuh3"
      }
    },
    {
      "cell_type": "markdown",
      "source": [
        "Shows which room types receive more frequent reviews."
      ],
      "metadata": {
        "id": "uyqkiB8YYuh3"
      }
    },
    {
      "cell_type": "markdown",
      "source": [
        "##### 3. Will the gained insights help creating a positive business impact?\n",
        "Are there any insights that lead to negative growth? Justify with specific reason."
      ],
      "metadata": {
        "id": "qYpmQ266Yuh3"
      }
    },
    {
      "cell_type": "markdown",
      "source": [
        "Helps hosts understand guest preferences and potentially increase review frequency."
      ],
      "metadata": {
        "id": "_WtzZ_hCYuh4"
      }
    },
    {
      "cell_type": "markdown",
      "source": [
        "#### Chart - 6"
      ],
      "metadata": {
        "id": "OH-pJp9IphqM"
      }
    },
    {
      "cell_type": "code",
      "source": [
        "# Chart - 6 visualization code\n",
        "# Bar chart of average price by neighbourhood group\n",
        "plt.figure(figsize=(15,6))\n",
        "airbnb_data.groupby('neighbourhood_group')['price'].mean().plot(kind='bar', color='orange')\n",
        "plt.title('Average Price by Borough')\n",
        "plt.xlabel('Borough')\n",
        "plt.ylabel('Average Price (USD)')\n",
        "plt.show()"
      ],
      "metadata": {
        "id": "kuRf4wtuphqN"
      },
      "execution_count": null,
      "outputs": []
    },
    {
      "cell_type": "markdown",
      "source": [
        "##### 1. Why did you pick the specific chart?"
      ],
      "metadata": {
        "id": "bbFf2-_FphqN"
      }
    },
    {
      "cell_type": "markdown",
      "source": [
        "To compare average prices across boroughs."
      ],
      "metadata": {
        "id": "loh7H2nzphqN"
      }
    },
    {
      "cell_type": "markdown",
      "source": [
        "##### 2. What is/are the insight(s) found from the chart?"
      ],
      "metadata": {
        "id": "_ouA3fa0phqN"
      }
    },
    {
      "cell_type": "markdown",
      "source": [
        "Identifies boroughs with higher average listing prices.\n"
      ],
      "metadata": {
        "id": "VECbqPI7phqN"
      }
    },
    {
      "cell_type": "markdown",
      "source": [
        "##### 3. Will the gained insights help creating a positive business impact?\n",
        "Are there any insights that lead to negative growth? Justify with specific reason."
      ],
      "metadata": {
        "id": "Seke61FWphqN"
      }
    },
    {
      "cell_type": "markdown",
      "source": [
        "Guides pricing strategies based on location."
      ],
      "metadata": {
        "id": "DW4_bGpfphqN"
      }
    },
    {
      "cell_type": "markdown",
      "source": [
        "#### Chart - 7"
      ],
      "metadata": {
        "id": "PIIx-8_IphqN"
      }
    },
    {
      "cell_type": "code",
      "source": [
        "# Chart - 7 visualization code\n",
        "# Convert 'last_review' to datetime\n",
        "airbnb_data['last_review'] = pd.to_datetime(airbnb_data['last_review'], errors='coerce')\n",
        "\n",
        "# Line plot of number of reviews over time\n",
        "plt.figure(figsize=(15,6))\n",
        "airbnb_data.groupby(airbnb_data['last_review'].dt.to_period('M')).size().plot(kind='line', color='red')\n",
        "plt.title('Number of Reviews Over Time')\n",
        "plt.xlabel('Time')\n",
        "plt.ylabel('Number of Reviews')\n",
        "plt.show()"
      ],
      "metadata": {
        "id": "lqAIGUfyphqO"
      },
      "execution_count": null,
      "outputs": []
    },
    {
      "cell_type": "markdown",
      "source": [
        "##### 1. Why did you pick the specific chart?"
      ],
      "metadata": {
        "id": "t27r6nlMphqO"
      }
    },
    {
      "cell_type": "markdown",
      "source": [
        "To observe trends in review counts over time."
      ],
      "metadata": {
        "id": "iv6ro40sphqO"
      }
    },
    {
      "cell_type": "markdown",
      "source": [
        "##### 2. What is/are the insight(s) found from the chart?"
      ],
      "metadata": {
        "id": "r2jJGEOYphqO"
      }
    },
    {
      "cell_type": "markdown",
      "source": [
        "Shows how review activity changes over time."
      ],
      "metadata": {
        "id": "Po6ZPi4hphqO"
      }
    },
    {
      "cell_type": "markdown",
      "source": [
        "##### 3. Will the gained insights help creating a positive business impact?\n",
        "Are there any insights that lead to negative growth? Justify with specific reason."
      ],
      "metadata": {
        "id": "b0JNsNcRphqO"
      }
    },
    {
      "cell_type": "markdown",
      "source": [
        "Helps hosts understand seasonal trends in guest reviews."
      ],
      "metadata": {
        "id": "xvSq8iUTphqO"
      }
    },
    {
      "cell_type": "markdown",
      "source": [
        "#### Chart - 8"
      ],
      "metadata": {
        "id": "BZR9WyysphqO"
      }
    },
    {
      "cell_type": "code",
      "source": [
        "# Chart - 8 visualization code\n",
        "# Pie chart of room type distribution\n",
        "plt.figure(figsize=(8,8))\n",
        "airbnb_data['room_type'].value_counts().plot(kind='pie', autopct='%1.1f%%', colors=['skyblue', 'lightgreen', 'coral'])\n",
        "plt.title('Room Type Distribution')\n",
        "plt.ylabel('')\n",
        "plt.show()"
      ],
      "metadata": {
        "id": "TdPTWpAVphqO"
      },
      "execution_count": null,
      "outputs": []
    },
    {
      "cell_type": "markdown",
      "source": [
        "##### 1. Why did you pick the specific chart?"
      ],
      "metadata": {
        "id": "jj7wYXLtphqO"
      }
    },
    {
      "cell_type": "markdown",
      "source": [
        "\n",
        "To visualize the proportion of each room type."
      ],
      "metadata": {
        "id": "Ob8u6rCTphqO"
      }
    },
    {
      "cell_type": "markdown",
      "source": [
        "##### 2. What is/are the insight(s) found from the chart?"
      ],
      "metadata": {
        "id": "eZrbJ2SmphqO"
      }
    },
    {
      "cell_type": "markdown",
      "source": [
        "Shows the market share of different room types."
      ],
      "metadata": {
        "id": "mZtgC_hjphqO"
      }
    },
    {
      "cell_type": "markdown",
      "source": [
        "##### 3. Will the gained insights help creating a positive business impact?\n",
        "Are there any insights that lead to negative growth? Justify with specific reason."
      ],
      "metadata": {
        "id": "rFu4xreNphqO"
      }
    },
    {
      "cell_type": "markdown",
      "source": [
        "Helps hosts understand the competition and demand for room types."
      ],
      "metadata": {
        "id": "ey_0qi68phqO"
      }
    },
    {
      "cell_type": "markdown",
      "source": [
        "#### Chart - 9"
      ],
      "metadata": {
        "id": "YJ55k-q6phqO"
      }
    },
    {
      "cell_type": "code",
      "source": [
        "# Chart - 9 visualization code\n",
        "# Box plot of reviews per month by neighbourhood group\n",
        "plt.figure(figsize=(15,6))\n",
        "airbnb_data.boxplot(column='reviews_per_month', by='neighbourhood_group', grid=False)\n",
        "plt.title('Reviews per Month by Borough')\n",
        "plt.xlabel('Borough')\n",
        "plt.ylabel('Reviews per Month')\n",
        "plt.show()"
      ],
      "metadata": {
        "id": "B2aS4O1ophqO"
      },
      "execution_count": null,
      "outputs": []
    },
    {
      "cell_type": "markdown",
      "source": [
        "##### 1. Why did you pick the specific chart?"
      ],
      "metadata": {
        "id": "gCFgpxoyphqP"
      }
    },
    {
      "cell_type": "markdown",
      "source": [
        "To compare the review frequency across boroughs."
      ],
      "metadata": {
        "id": "TVxDimi2phqP"
      }
    },
    {
      "cell_type": "markdown",
      "source": [
        "##### 2. What is/are the insight(s) found from the chart?"
      ],
      "metadata": {
        "id": "OVtJsKN_phqQ"
      }
    },
    {
      "cell_type": "markdown",
      "source": [
        "Highlights which boroughs have more active listings in terms of reviews."
      ],
      "metadata": {
        "id": "ngGi97qjphqQ"
      }
    },
    {
      "cell_type": "markdown",
      "source": [
        "##### 3. Will the gained insights help creating a positive business impact?\n",
        "Are there any insights that lead to negative growth? Justify with specific reason."
      ],
      "metadata": {
        "id": "lssrdh5qphqQ"
      }
    },
    {
      "cell_type": "markdown",
      "source": [
        "Guides hosts on expected review activity based on location."
      ],
      "metadata": {
        "id": "tBpY5ekJphqQ"
      }
    },
    {
      "cell_type": "markdown",
      "source": [
        "#### Chart - 10"
      ],
      "metadata": {
        "id": "U2RJ9gkRphqQ"
      }
    },
    {
      "cell_type": "code",
      "source": [
        "# Chart - 10 visualization code\n",
        "# Scatter plot of price vs. number of reviews\n",
        "plt.figure(figsize=(15,6))\n",
        "plt.scatter(airbnb_data['number_of_reviews'], airbnb_data['price'], alpha=0.5, color='blue')\n",
        "plt.title('Price vs. Number of Reviews')\n",
        "plt.xlabel('Number of Reviews')\n",
        "plt.ylabel('Price (USD)')\n",
        "plt.show()"
      ],
      "metadata": {
        "id": "GM7a4YP4phqQ"
      },
      "execution_count": null,
      "outputs": []
    },
    {
      "cell_type": "markdown",
      "source": [
        "##### 1. Why did you pick the specific chart?"
      ],
      "metadata": {
        "id": "1M8mcRywphqQ"
      }
    },
    {
      "cell_type": "markdown",
      "source": [
        "To explore the relationship between price and number of reviews."
      ],
      "metadata": {
        "id": "8agQvks0phqQ"
      }
    },
    {
      "cell_type": "markdown",
      "source": [
        "##### 2. What is/are the insight(s) found from the chart?"
      ],
      "metadata": {
        "id": "tgIPom80phqQ"
      }
    },
    {
      "cell_type": "markdown",
      "source": [
        "Shows how listing price correlates with review count."
      ],
      "metadata": {
        "id": "Qp13pnNzphqQ"
      }
    },
    {
      "cell_type": "markdown",
      "source": [
        "##### 3. Will the gained insights help creating a positive business impact?\n",
        "Are there any insights that lead to negative growth? Justify with specific reason."
      ],
      "metadata": {
        "id": "JMzcOPDDphqR"
      }
    },
    {
      "cell_type": "markdown",
      "source": [
        "Helps hosts understand if higher prices affect the number of reviews received."
      ],
      "metadata": {
        "id": "R4Ka1PC2phqR"
      }
    },
    {
      "cell_type": "markdown",
      "source": [
        "#### Chart - 11"
      ],
      "metadata": {
        "id": "x-EpHcCOp1ci"
      }
    },
    {
      "cell_type": "code",
      "source": [
        "# Chart - 11 visualization code\n",
        "# Bar chart of availability 365 by room type\n",
        "plt.figure(figsize=(15,6))\n",
        "airbnb_data.groupby('room_type')['availability_365'].mean().plot(kind='bar', color='purple')\n",
        "plt.title('Average Availability (365 days) by Room Type')\n",
        "plt.xlabel('Room Type')\n",
        "plt.ylabel('Average Availability (days)')\n",
        "plt.show()"
      ],
      "metadata": {
        "id": "mAQTIvtqp1cj"
      },
      "execution_count": null,
      "outputs": []
    },
    {
      "cell_type": "markdown",
      "source": [
        "##### 1. Why did you pick the specific chart?"
      ],
      "metadata": {
        "id": "X_VqEhTip1ck"
      }
    },
    {
      "cell_type": "markdown",
      "source": [
        "To compare the availability of different room types."
      ],
      "metadata": {
        "id": "-vsMzt_np1ck"
      }
    },
    {
      "cell_type": "markdown",
      "source": [
        "##### 2. What is/are the insight(s) found from the chart?"
      ],
      "metadata": {
        "id": "8zGJKyg5p1ck"
      }
    },
    {
      "cell_type": "markdown",
      "source": [
        "Identifies room types with higher or lower availability."
      ],
      "metadata": {
        "id": "ZYdMsrqVp1ck"
      }
    },
    {
      "cell_type": "markdown",
      "source": [
        "##### 3. Will the gained insights help creating a positive business impact?\n",
        "Are there any insights that lead to negative growth? Justify with specific reason."
      ],
      "metadata": {
        "id": "PVzmfK_Ep1ck"
      }
    },
    {
      "cell_type": "markdown",
      "source": [
        "Helps hosts understand the potential for bookings based on room type availability."
      ],
      "metadata": {
        "id": "druuKYZpp1ck"
      }
    },
    {
      "cell_type": "markdown",
      "source": [
        "#### Chart - 12"
      ],
      "metadata": {
        "id": "n3dbpmDWp1ck"
      }
    },
    {
      "cell_type": "code",
      "source": [
        "# Chart - 12 visualization code\n",
        "# Density plot of price distribution by neighbourhood group\n",
        "plt.figure(figsize=(15,6))\n",
        "for group in airbnb_data['neighbourhood_group'].unique():\n",
        "    subset = airbnb_data[airbnb_data['neighbourhood_group'] == group]\n",
        "    sns.kdeplot(subset['price'], label=group, fill=True)\n",
        "plt.title('Price Distribution by Borough')\n",
        "plt.xlabel('Price (USD)')\n",
        "plt.ylabel('Density')\n",
        "plt.legend()\n",
        "plt.show()"
      ],
      "metadata": {
        "id": "bwevp1tKp1ck"
      },
      "execution_count": null,
      "outputs": []
    },
    {
      "cell_type": "markdown",
      "source": [
        "##### 1. Why did you pick the specific chart?"
      ],
      "metadata": {
        "id": "ylSl6qgtp1ck"
      }
    },
    {
      "cell_type": "markdown",
      "source": [
        "To compare price distributions across boroughs."
      ],
      "metadata": {
        "id": "m2xqNkiQp1ck"
      }
    },
    {
      "cell_type": "markdown",
      "source": [
        "##### 2. What is/are the insight(s) found from the chart?"
      ],
      "metadata": {
        "id": "ZWILFDl5p1ck"
      }
    },
    {
      "cell_type": "markdown",
      "source": [
        "Shows how prices vary within different areas."
      ],
      "metadata": {
        "id": "x-lUsV2mp1ck"
      }
    },
    {
      "cell_type": "markdown",
      "source": [
        "##### 3. Will the gained insights help creating a positive business impact?\n",
        "Are there any insights that lead to negative growth? Justify with specific reason."
      ],
      "metadata": {
        "id": "M7G43BXep1ck"
      }
    },
    {
      "cell_type": "markdown",
      "source": [
        "Helps hosts set competitive prices based on location-specific trends."
      ],
      "metadata": {
        "id": "5wwDJXsLp1cl"
      }
    },
    {
      "cell_type": "markdown",
      "source": [
        "#### Chart - 13"
      ],
      "metadata": {
        "id": "Ag9LCva-p1cl"
      }
    },
    {
      "cell_type": "code",
      "source": [
        "# Chart - 13 visualization code\n",
        "# Create a heatmap of listings density by neighborhood\n",
        "neighborhood_counts = airbnb_data['neighbourhood'].value_counts()\n",
        "plt.figure(figsize=(15,8))\n",
        "sns.heatmap(pd.DataFrame(neighborhood_counts), annot=False, cmap='YlOrRd')\n",
        "plt.title('Density of Listings by Neighborhood')\n",
        "plt.xlabel('Neighborhood')\n",
        "plt.ylabel('Number of Listings')\n",
        "plt.show()"
      ],
      "metadata": {
        "id": "EUfxeq9-p1cl"
      },
      "execution_count": null,
      "outputs": []
    },
    {
      "cell_type": "markdown",
      "source": [
        "##### 1. Why did you pick the specific chart?"
      ],
      "metadata": {
        "id": "E6MkPsBcp1cl"
      }
    },
    {
      "cell_type": "markdown",
      "source": [
        "To visualize the density of listings within neighborhoods."
      ],
      "metadata": {
        "id": "V22bRsFWp1cl"
      }
    },
    {
      "cell_type": "markdown",
      "source": [
        "##### 2. What is/are the insight(s) found from the chart?"
      ],
      "metadata": {
        "id": "2cELzS2fp1cl"
      }
    },
    {
      "cell_type": "markdown",
      "source": [
        "Highlights neighborhoods with high concentrations of listings."
      ],
      "metadata": {
        "id": "ozQPc2_Ip1cl"
      }
    },
    {
      "cell_type": "markdown",
      "source": [
        "##### 3. Will the gained insights help creating a positive business impact?\n",
        "Are there any insights that lead to negative growth? Justify with specific reason."
      ],
      "metadata": {
        "id": "3MPXvC8up1cl"
      }
    },
    {
      "cell_type": "markdown",
      "source": [
        "Helps investors and hosts focus on high-density areas for better market visibility."
      ],
      "metadata": {
        "id": "GL8l1tdLp1cl"
      }
    },
    {
      "cell_type": "markdown",
      "source": [
        "#### Chart - 14 - Correlation Heatmap"
      ],
      "metadata": {
        "id": "NC_X3p0fY2L0"
      }
    },
    {
      "cell_type": "code",
      "source": [
        "# Correlation Heatmap visualization code\n",
        "plt.figure(figsize=(15,6))\n",
        "# Select only numeric columns before calculating correlation\n",
        "numeric_data = airbnb_data.select_dtypes(include=['number'])\n",
        "sns.heatmap(numeric_data.corr(), annot=True, cmap='coolwarm')\n",
        "plt.title('Correlation Heatmap')\n",
        "plt.show()"
      ],
      "metadata": {
        "id": "xyC9zolEZNRQ"
      },
      "execution_count": null,
      "outputs": []
    },
    {
      "cell_type": "markdown",
      "source": [
        "##### 1. Why did you pick the specific chart?"
      ],
      "metadata": {
        "id": "UV0SzAkaZNRQ"
      }
    },
    {
      "cell_type": "markdown",
      "source": [
        "To understand the relationships between numeric variables."
      ],
      "metadata": {
        "id": "DVPuT8LYZNRQ"
      }
    },
    {
      "cell_type": "markdown",
      "source": [
        "##### 2. What is/are the insight(s) found from the chart?"
      ],
      "metadata": {
        "id": "YPEH6qLeZNRQ"
      }
    },
    {
      "cell_type": "markdown",
      "source": [
        "Highlights strong correlations between features."
      ],
      "metadata": {
        "id": "bfSqtnDqZNRR"
      }
    },
    {
      "cell_type": "markdown",
      "source": [
        "#### Chart - 15 - Pair Plot"
      ],
      "metadata": {
        "id": "q29F0dvdveiT"
      }
    },
    {
      "cell_type": "code",
      "source": [
        "# Pair Plot visualization code\n",
        "# Select relevant columns for the pair plot\n",
        "pair_plot_data = airbnb_data[['price', 'minimum_nights', 'number_of_reviews', 'reviews_per_month', 'availability_365']]\n",
        "\n",
        "# Create the pair plot\n",
        "plt.figure(figsize=(12, 8))\n",
        "sns.pairplot(pair_plot_data, diag_kind='kde', plot_kws={'alpha':0.6, 's':50, 'edgecolor':'k'}, diag_kws={'fill':True})\n",
        "plt.suptitle('Pair Plot of Key Airbnb NYC 2019 Variables', y=1.02)\n",
        "plt.show()"
      ],
      "metadata": {
        "id": "o58-TEIhveiU"
      },
      "execution_count": null,
      "outputs": []
    },
    {
      "cell_type": "markdown",
      "source": [
        "##### 1. Why did you pick the specific chart?"
      ],
      "metadata": {
        "id": "EXh0U9oCveiU"
      }
    },
    {
      "cell_type": "markdown",
      "source": [
        "A pair plot is a powerful visualization that allows us to examine the relationships between multiple numeric variables simultaneously. It provides scatter plots for each pair of variables along with histograms for individual variable distributions. This type of chart is particularly useful for:\n",
        "\n",
        "Identifying Correlations: Quickly seeing which pairs of variables are correlated.\n",
        "Spotting Trends: Observing potential trends between different variables.\n",
        "Detecting Outliers: Easily identifying outliers in the data.\n",
        "Given the diverse variables in the Airbnb NYC dataset, a pair plot can help us understand the relationships between key features like price, number of reviews, minimum nights, availability, and reviews per month."
      ],
      "metadata": {
        "id": "eMmPjTByveiU"
      }
    },
    {
      "cell_type": "markdown",
      "source": [
        "##### 2. What is/are the insight(s) found from the chart?"
      ],
      "metadata": {
        "id": "22aHeOlLveiV"
      }
    },
    {
      "cell_type": "markdown",
      "source": [
        "1. Correlation Between Variables:\n",
        "\n",
        "Price and Availability: There may be a relationship between the price of a listing and its availability. Higher-priced listings might be less frequently available, suggesting they could be more exclusive or booked out in advance.\n",
        "Number of Reviews and Reviews per Month: Listings with a higher total number of reviews tend to also have higher average reviews per month, indicating sustained popularity.\n",
        "2. Distribution Patterns:\n",
        "\n",
        "Price: The histogram for price shows that most listings are clustered around lower price ranges with a few high-priced outliers.\n",
        "Minimum Nights: The histogram indicates that most listings have a low minimum night requirement, but there are some listings with significantly higher minimum stays.\n",
        "3. Outliers:\n",
        "\n",
        "High Prices: The scatter plots reveal a few listings with exceptionally high prices that stand out from the majority of data points.\n",
        "High Number of Reviews: Some listings have an unusually high number of reviews, indicating either long-term listings or highly popular ones.\n",
        "\n",
        "Business Impact of Insights\n",
        "1. Pricing Strategy:\n",
        "\n",
        "Optimize Pricing Based on Availability: Understanding the relationship between price and availability can help hosts adjust their pricing strategy to balance exclusivity and occupancy.\n",
        "Identifying Optimal Minimum Nights: Hosts can set competitive minimum night requirements by analyzing the trends observed in the data.\n",
        "2. Review Management:\n",
        "\n",
        "Encouraging Reviews: Hosts can implement strategies to encourage more frequent reviews, enhancing the attractiveness of their listings by maintaining high review rates.\n",
        "3. Targeting Outliers:\n",
        "\n",
        "Premium Listings: Identifying and analyzing high-priced listings can help potential investors or new hosts understand what makes these listings stand out, enabling them to replicate such success.\n",
        "4. Market Understanding:\n",
        "\n",
        "Neighborhood Analysis: Insights from the pair plot can be combined with geographic analysis to understand how these relationships vary across different neighborhoods.\n",
        "By leveraging the insights gained from the pair plot, stakeholders can make informed decisions to optimize their listings, set competitive prices, encourage guest reviews, and identify lucrative investment opportunities. This comprehensive understanding ultimately contributes to creating a positive business impact in the competitive Airbnb market."
      ],
      "metadata": {
        "id": "uPQ8RGwHveiV"
      }
    },
    {
      "cell_type": "markdown",
      "source": [
        "## **5. Solution to Business Objective**"
      ],
      "metadata": {
        "id": "JcMwzZxoAimU"
      }
    },
    {
      "cell_type": "markdown",
      "source": [
        "#### What do you suggest the client to achieve Business Objective ?\n",
        "Explain Briefly."
      ],
      "metadata": {
        "id": "8G2x9gOozGDZ"
      }
    },
    {
      "cell_type": "markdown",
      "source": [
        "To achieve the business objectives for Airbnb hosts, potential investors, and policymakers, I suggest the following comprehensive approach:\n",
        "\n",
        "#### 1. **Data Cleaning and Preparation**:\n",
        "   - **Objective**: Ensure the dataset is accurate and ready for analysis.\n",
        "   - **Action**: Handle missing values, normalize categorical data, and ensure appropriate data types.\n",
        "\n",
        "#### 2. **Descriptive Analysis**:\n",
        "   - **Objective**: Provide an overview of the current state of the Airbnb market in NYC.\n",
        "   - **Action**: Generate summary statistics and visualizations for key metrics such as prices, availability, and reviews. Create maps showing the distribution of listings across neighborhoods.\n",
        "\n",
        "#### 3. **Exploratory Data Analysis (EDA)**:\n",
        "   - **Objective**: Identify patterns and relationships within the data.\n",
        "   - **Action**:\n",
        "     - Analyze geographic distribution using heatmaps.\n",
        "     - Study the impact of location, room type, and other factors on price and occupancy.\n",
        "     - Identify popular neighborhoods and high-demand periods.\n",
        "\n",
        "#### 4. **Predictive Modeling**:\n",
        "   - **Objective**: Develop models to predict listing prices and occupancy rates.\n",
        "   - **Action**:\n",
        "     - Build regression models using features such as location, room type, and availability.\n",
        "     - Evaluate and refine models to improve accuracy.\n",
        "     - Use models to provide pricing recommendations to hosts.\n",
        "\n",
        "#### 5. **Geospatial Analysis**:\n",
        "   - **Objective**: Visualize and understand the geographic aspects of the Airbnb market.\n",
        "   - **Action**:\n",
        "     - Use tools like Folium and Geopandas to create interactive maps.\n",
        "     - Highlight high-demand areas and potential investment hotspots.\n",
        "\n",
        "#### 6. **Actionable Insights and Recommendations**:\n",
        "   - **For Hosts**:\n",
        "     - **Pricing Strategy**: Use predictive models to set competitive prices based on similar listings.\n",
        "     - **Listing Optimization**: Emphasize attributes that attract more bookings, such as amenities and high-quality photos.\n",
        "     - **Calendar Management**: Optimize availability based on demand patterns to increase occupancy rates.\n",
        "   - **For Investors**:\n",
        "     - **Investment Opportunities**: Identify neighborhoods with high rental yields and potential for appreciation.\n",
        "     - **Market Trends**: Analyze trends to inform strategic investment decisions.\n",
        "   - **For Policymakers**:\n",
        "     - **Market Dynamics**: Use data to understand the impact of Airbnb on local housing markets and develop balanced regulations.\n",
        "     - **Compliance**: Identify non-compliant listings and develop enforcement strategies.\n",
        "\n",
        "#### 7. **Implementation and Monitoring**:\n",
        "   - **Objective**: Ensure continuous improvement and adaptation of strategies.\n",
        "   - **Action**:\n",
        "     - Implement dashboards for real-time monitoring of key metrics.\n",
        "     - Regularly update predictive models with new data.\n",
        "     - Gather feedback from users to refine recommendations and strategies.\n",
        "\n",
        "### Detailed Solution Steps:\n",
        "\n",
        "1. **Data Cleaning and Preparation**:\n",
        "   - Use Python libraries like Pandas for data cleaning.\n",
        "   - Handle missing values by imputation or removal.\n",
        "   - Normalize and clean categorical data for consistency.\n",
        "\n",
        "2. **Descriptive Analysis**:\n",
        "   - Generate descriptive statistics using Pandas and NumPy.\n",
        "   - Create visualizations using Matplotlib and Seaborn.\n",
        "   - Use tools like Folium and Geopandas for geospatial visualizations.\n",
        "\n",
        "3. **Exploratory Data Analysis (EDA)**:\n",
        "   - Perform correlation analysis to identify relationships.\n",
        "   - Use scatter plots, histograms, and box plots to explore data distributions.\n",
        "   - Create heatmaps to visualize geographic trends.\n",
        "\n",
        "4. **Predictive Modeling**:\n",
        "   - Use Scikit-learn to build regression models.\n",
        "   - Train models on features like location, room type, and price.\n",
        "   - Evaluate models using metrics like RMSE and R-squared.\n",
        "   - Provide pricing recommendations based on model predictions.\n",
        "\n",
        "5. **Geospatial Analysis**:\n",
        "   - Use Folium to create interactive maps.\n",
        "   - Highlight high-demand neighborhoods and potential investment areas.\n",
        "   - Analyze the impact of geographic factors on pricing and occupancy.\n",
        "\n",
        "6. **Actionable Insights and Recommendations**:\n",
        "   - Provide detailed reports with insights and recommendations.\n",
        "   - Offer tools and dashboards for hosts to optimize their listings.\n",
        "   - Share investment guides with potential investors.\n",
        "   - Develop policy briefs for policymakers based on analysis results.\n",
        "\n",
        "By following this approach, the client can achieve the business objectives of optimizing pricing, improving listing appeal, identifying lucrative investment opportunities, and understanding market dynamics for effective regulation."
      ],
      "metadata": {
        "id": "pASKb0qOza21"
      }
    },
    {
      "cell_type": "markdown",
      "source": [
        "# **Conclusion**"
      ],
      "metadata": {
        "id": "gCX9965dhzqZ"
      }
    },
    {
      "cell_type": "markdown",
      "source": [
        "The analysis of Airbnb listings in New York City for the year 2019 provides valuable insights for various stakeholders, including hosts, potential investors, and policymakers. By leveraging a comprehensive dataset, the project aims to empower these stakeholders with data-driven strategies and actionable insights to navigate the competitive Airbnb market effectively.\n",
        "\n",
        "#### Summary of Findings:\n",
        "1. **Descriptive Insights**:\n",
        "   - Key statistics reveal trends in pricing, availability, and review patterns.\n",
        "   - Geographic distribution maps highlight popular neighborhoods and boroughs.\n",
        "\n",
        "2. **Exploratory Data Analysis (EDA)**:\n",
        "   - Analysis of factors such as room type, location, and host activity provides a deeper understanding of what influences pricing and occupancy.\n",
        "   - Identification of high-demand areas and periods helps in optimizing listing strategies.\n",
        "\n",
        "3. **Predictive Modeling**:\n",
        "   - Regression models estimate listing prices based on various features, offering pricing recommendations to hosts.\n",
        "   - Predictive insights help in setting competitive prices and maximizing revenue.\n",
        "\n",
        "4. **Geospatial Analysis**:\n",
        "   - Interactive maps and geospatial visualizations demonstrate the impact of location on listing performance.\n",
        "   - Insights into neighborhood dynamics guide investment decisions and policy formulations.\n",
        "\n",
        "#### Recommendations:\n",
        "1. **For Hosts**:\n",
        "   - **Optimize Pricing**: Utilize predictive models to set competitive prices and adjust based on demand patterns.\n",
        "   - **Enhance Listings**: Focus on improving listing attributes that attract guests, such as high-quality photos and detailed descriptions.\n",
        "   - **Manage Availability**: Adjust availability to align with high-demand periods to increase occupancy rates.\n",
        "\n",
        "2. **For Investors**:\n",
        "   - **Identify Investment Opportunities**: Focus on high-demand neighborhoods with strong rental yields.\n",
        "   - **Analyze Market Trends**: Use market insights to make informed decisions about property investments.\n",
        "\n",
        "3. **For Policymakers**:\n",
        "   - **Understand Market Impact**: Analyze the effects of short-term rentals on local housing markets and communities.\n",
        "   - **Develop Regulations**: Formulate balanced regulations that ensure fair operation of short-term rentals while protecting the interests of residents.\n",
        "\n",
        "#### Future Work:\n",
        "- **Continuous Monitoring**: Implement dashboards for real-time monitoring of key metrics to adapt strategies dynamically.\n",
        "- **Model Refinement**: Regularly update predictive models with new data to improve accuracy.\n",
        "- **Stakeholder Feedback**: Gather feedback from users to refine recommendations and strategies further.\n",
        "\n",
        "By addressing the key problems and leveraging data-driven insights, this project aims to optimize the performance of Airbnb listings, inform investment decisions, and support effective policymaking. The ultimate goal is to enhance the overall experience for guests and hosts while fostering a sustainable and thriving Airbnb market in New York City."
      ],
      "metadata": {
        "id": "Fjb1IsQkh3yE"
      }
    },
    {
      "cell_type": "markdown",
      "source": [
        "### ***Hurrah! You have successfully completed your EDA Capstone Project !!!***"
      ],
      "metadata": {
        "id": "gIfDvo9L0UH2"
      }
    }
  ]
}